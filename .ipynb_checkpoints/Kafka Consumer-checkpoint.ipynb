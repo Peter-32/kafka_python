{
 "cells": [
  {
   "cell_type": "code",
   "execution_count": null,
   "metadata": {},
   "outputs": [],
   "source": [
    "# Pre-requisites\n",
    "    # Install Java - Oracle website, JDK, download and click, update bash_profile:\n",
    "        # export JAVA_HOME=\"/Library/Java/JavaVirtualMachines/jdk1.8.0_211.jdk/Contents/Home\"\n",
    "        # export PATH=$JAVA_HOME/bin\n",
    "    # Download and start servers Zookeeper and Kafka: (Step 1 & 2: https://kafka.apache.org/quickstart)\n",
    "    # Pip install kafka-python"
   ]
  },
  {
   "cell_type": "code",
   "execution_count": 1,
   "metadata": {},
   "outputs": [],
   "source": [
    "from time import sleep\n",
    "from json import dumps\n",
    "from kafka import KafkaProducer\n",
    "from kafka import KafkaConsumer, KafkaProducer"
   ]
  },
  {
   "cell_type": "code",
   "execution_count": null,
   "metadata": {},
   "outputs": [
    {
     "name": "stdout",
     "output_type": "stream",
     "text": [
      "ConsumerRecord(topic='numtest', partition=0, offset=3012, timestamp=1560976682566, timestamp_type=0, key=None, value=b'{\"look_at_me\": 0}', headers=[], checksum=None, serialized_key_size=-1, serialized_value_size=17, serialized_header_size=-1)\n",
      "ConsumerRecord(topic='numtest', partition=0, offset=3013, timestamp=1560976682567, timestamp_type=0, key=None, value=b'{\"look_at_me\": 1}', headers=[], checksum=None, serialized_key_size=-1, serialized_value_size=17, serialized_header_size=-1)\n",
      "ConsumerRecord(topic='numtest', partition=0, offset=3014, timestamp=1560976682567, timestamp_type=0, key=None, value=b'{\"look_at_me\": 2}', headers=[], checksum=None, serialized_key_size=-1, serialized_value_size=17, serialized_header_size=-1)\n",
      "ConsumerRecord(topic='numtest', partition=0, offset=3015, timestamp=1560976685567, timestamp_type=0, key=None, value=b'{\"look_at_me\": 0}', headers=[], checksum=None, serialized_key_size=-1, serialized_value_size=17, serialized_header_size=-1)\n",
      "ConsumerRecord(topic='numtest', partition=0, offset=3016, timestamp=1560976685568, timestamp_type=0, key=None, value=b'{\"look_at_me\": 1}', headers=[], checksum=None, serialized_key_size=-1, serialized_value_size=17, serialized_header_size=-1)\n",
      "ConsumerRecord(topic='numtest', partition=0, offset=3017, timestamp=1560976685568, timestamp_type=0, key=None, value=b'{\"look_at_me\": 2}', headers=[], checksum=None, serialized_key_size=-1, serialized_value_size=17, serialized_header_size=-1)\n",
      "ConsumerRecord(topic='numtest', partition=0, offset=3018, timestamp=1560976686510, timestamp_type=0, key=None, value=b'{\"look_at_me\": 0}', headers=[], checksum=None, serialized_key_size=-1, serialized_value_size=17, serialized_header_size=-1)\n",
      "ConsumerRecord(topic='numtest', partition=0, offset=3019, timestamp=1560976686511, timestamp_type=0, key=None, value=b'{\"look_at_me\": 1}', headers=[], checksum=None, serialized_key_size=-1, serialized_value_size=17, serialized_header_size=-1)\n",
      "ConsumerRecord(topic='numtest', partition=0, offset=3020, timestamp=1560976686512, timestamp_type=0, key=None, value=b'{\"look_at_me\": 2}', headers=[], checksum=None, serialized_key_size=-1, serialized_value_size=17, serialized_header_size=-1)\n",
      "ConsumerRecord(topic='numtest', partition=0, offset=3021, timestamp=1560976687629, timestamp_type=0, key=None, value=b'{\"look_at_me\": 0}', headers=[], checksum=None, serialized_key_size=-1, serialized_value_size=17, serialized_header_size=-1)\n",
      "ConsumerRecord(topic='numtest', partition=0, offset=3022, timestamp=1560976687630, timestamp_type=0, key=None, value=b'{\"look_at_me\": 1}', headers=[], checksum=None, serialized_key_size=-1, serialized_value_size=17, serialized_header_size=-1)\n",
      "ConsumerRecord(topic='numtest', partition=0, offset=3023, timestamp=1560976687632, timestamp_type=0, key=None, value=b'{\"look_at_me\": 2}', headers=[], checksum=None, serialized_key_size=-1, serialized_value_size=17, serialized_header_size=-1)\n"
     ]
    }
   ],
   "source": [
    "consumer = KafkaConsumer('numtest', bootstrap_servers='localhost:9092')\n",
    "for msg in consumer:\n",
    "    print(msg)"
   ]
  },
  {
   "cell_type": "code",
   "execution_count": null,
   "metadata": {},
   "outputs": [],
   "source": []
  }
 ],
 "metadata": {
  "kernelspec": {
   "display_name": "commons",
   "language": "python",
   "name": "commons"
  },
  "language_info": {
   "codemirror_mode": {
    "name": "ipython",
    "version": 3
   },
   "file_extension": ".py",
   "mimetype": "text/x-python",
   "name": "python",
   "nbconvert_exporter": "python",
   "pygments_lexer": "ipython3",
   "version": "3.6.5"
  },
  "toc": {
   "base_numbering": 1,
   "nav_menu": {},
   "number_sections": true,
   "sideBar": true,
   "skip_h1_title": false,
   "title_cell": "Table of Contents",
   "title_sidebar": "Contents",
   "toc_cell": false,
   "toc_position": {},
   "toc_section_display": true,
   "toc_window_display": false
  }
 },
 "nbformat": 4,
 "nbformat_minor": 2
}
